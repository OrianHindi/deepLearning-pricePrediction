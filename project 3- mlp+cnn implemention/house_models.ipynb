{
 "cells": [
  {
   "cell_type": "code",
   "execution_count": null,
   "metadata": {},
   "outputs": [],
   "source": [
    "from keras.models import Sequential\n",
    "from keras.layers.normalization import BatchNormalization\n",
    "from keras.layers.convolutional import Conv2D\n",
    "from keras.layers.convolutional import MaxPooling2D\n",
    "from keras.layers.core import Activation\n",
    "from keras.layers.core import Dropout\n",
    "from keras.layers.core import Dense\n",
    "from keras.layers import Flatten\n",
    "from keras.layers import Input\n",
    "from keras.models import Model\n",
    "import tensorflow as tf\n",
    "        \n",
    "def create_mlp(dim):\n",
    "    # define our MLP network\n",
    "    model = Sequential()\n",
    "    model.add(Dense(8, input_dim=dim, activation=\"relu\"))\n",
    "    model.add(Dense(4, activation=\"relu\")) \n",
    "    return model\n",
    "\n",
    "def create_cnn(width, height, depth, filters=(16, 32, 64)):\n",
    "    # initialize the input shape and channel dimension\n",
    "    inputShape = (height, width, depth)\n",
    "    chanDim = -1\n",
    "    \n",
    "    # define the model input\n",
    "    inputs = Input(shape=inputShape)\n",
    " \n",
    "    # loop over the number of filters\n",
    "    for (index, filter) in enumerate(filters):\n",
    "        # if this is the first CONV layer then set the input\n",
    "        if index == 0:\n",
    "            x = inputs\n",
    "        \n",
    "        x = Conv2D(filter, (3, 3), padding=\"same\")(x) # CONV\n",
    "        x = Activation(\"relu\")(x) # RELU\n",
    "        x = BatchNormalization(axis=chanDim)(x) # BN\n",
    "        x = MaxPooling2D(pool_size=(2, 2))(x) # MaxPooling\n",
    "        \n",
    "    x = Flatten()(x)  #flatten the volume\n",
    "    x = Dense(16)(x) #Fully Connected\n",
    "    x = Activation(\"relu\")(x) #RELU\n",
    "    x = BatchNormalization(axis=chanDim)(x) #BN\n",
    "    x = Dropout(0.5)(x) #DROPOUT\n",
    "\n",
    "    # apply another Fully Connected layer (match the number of nodes that output from MLP)\n",
    "    x = Dense(4)(x)\n",
    "    x = Activation(\"relu\")(x)\n",
    " \n",
    "    # construct the CNN\n",
    "    model = Model(inputs, x)    \n",
    "    return model"
   ]
  }
 ],
 "metadata": {
  "kernelspec": {
   "display_name": "'TensorFlow-GPU'",
   "language": "python",
   "name": "tensorflow"
  },
  "language_info": {
   "codemirror_mode": {
    "name": "ipython",
    "version": 3
   },
   "file_extension": ".py",
   "mimetype": "text/x-python",
   "name": "python",
   "nbconvert_exporter": "python",
   "pygments_lexer": "ipython3",
   "version": "3.7.6"
  }
 },
 "nbformat": 4,
 "nbformat_minor": 4
}
