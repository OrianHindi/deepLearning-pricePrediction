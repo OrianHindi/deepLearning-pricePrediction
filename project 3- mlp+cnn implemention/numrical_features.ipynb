{
 "cells": [
  {
   "cell_type": "code",
   "execution_count": null,
   "metadata": {},
   "outputs": [],
   "source": [
    "from sklearn.preprocessing import LabelBinarizer\n",
    "from sklearn.preprocessing import MinMaxScaler\n",
    "import pandas as pd\n",
    "import numpy as np\n",
    "import glob\n",
    "import cv2\n",
    "import os\n",
    "\n",
    "def load_house_attributes(inputPath):\n",
    "    numrical_features = [\"bedrooms\", \"bathrooms\", \"area\", \"zipcode\", \"price\"]\n",
    "    df = pd.read_csv(inputPath, sep=\" \", header=None, names=numrical_features)\n",
    "    \n",
    "    # create 3 new featuers, featuers**2\n",
    "    df['bedrooms2']=df['bedrooms']**2\n",
    "    df['bathrooms2']=df['bathrooms']**2\n",
    "    df['area2']=df['area']**2\n",
    "    \n",
    "    # determine the unique zip codes\n",
    "    zipcodes = df[\"zipcode\"].value_counts().keys().tolist() \n",
    "    rows = df[\"zipcode\"].value_counts().tolist() # number of data\n",
    " \n",
    "    # loop over each of the unique zip codes\n",
    "    for (zipcode, row) in zip(zipcodes, rows): \n",
    "        # removing any houses with less than 25 houses per zip code\n",
    "        if row < 25:\n",
    "            i = df[df[\"zipcode\"] == zipcode].index\n",
    "            df.drop(i, inplace=True)        \n",
    "    return df  \n",
    "\n",
    "\n",
    "def process_house_attributes(df, train, test):\n",
    "    # initialize the column names\n",
    "    continuous = [\"bedrooms\", \"bathrooms\", \"area\",\"bedrooms2\", \"bathrooms2\", \"area2\"]\n",
    " \n",
    "    # performing min-max scaling (range [0, 1])\n",
    "    cs = MinMaxScaler()\n",
    "    trainContinuous = cs.fit_transform(train[continuous])\n",
    "    testContinuous = cs.transform(test[continuous])\n",
    " \n",
    "    # one-hot encode the zip code categorical data (range [0, 1])\n",
    "    zipBinarizer = LabelBinarizer().fit(df[\"zipcode\"])\n",
    "    trainCategorical = zipBinarizer.transform(train[\"zipcode\"])\n",
    "    testCategorical = zipBinarizer.transform(test[\"zipcode\"])\n",
    " \n",
    "    # construct the categorical features with the continuous features\n",
    "    trainX = np.hstack([trainCategorical, trainContinuous])\n",
    "    testX = np.hstack([testCategorical, testContinuous])\n",
    " \n",
    "    # return the concatenated training and testing data\n",
    "    return (trainX, testX)"
   ]
  }
 ],
 "metadata": {
  "kernelspec": {
   "display_name": "Python 3",
   "language": "python",
   "name": "python3"
  },
  "language_info": {
   "codemirror_mode": {
    "name": "ipython",
    "version": 3
   },
   "file_extension": ".py",
   "mimetype": "text/x-python",
   "name": "python",
   "nbconvert_exporter": "python",
   "pygments_lexer": "ipython3",
   "version": "3.7.6"
  }
 },
 "nbformat": 4,
 "nbformat_minor": 4
}
