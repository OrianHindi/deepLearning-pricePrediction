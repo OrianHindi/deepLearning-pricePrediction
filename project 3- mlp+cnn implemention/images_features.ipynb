{
 "cells": [
  {
   "cell_type": "code",
   "execution_count": null,
   "metadata": {},
   "outputs": [],
   "source": [
    "from sklearn.preprocessing import LabelBinarizer\n",
    "from sklearn.preprocessing import MinMaxScaler\n",
    "import pandas as pd\n",
    "import numpy as np\n",
    "import glob\n",
    "import cv2\n",
    "import os\n",
    "\n",
    "def load_house_images(df, inputPath):\n",
    "     # initialize our images array\n",
    "    images = []\n",
    "\n",
    "    # loop over the indexes of the houses\n",
    "    for i in df.index.values:\n",
    "        # find the four images for the house and sort the file paths\n",
    "        basePath = os.path.sep.join([inputPath, \"{}_*\".format(i + 1)])\n",
    "        housePaths = sorted(list(glob.glob(basePath)))\n",
    "        \n",
    "        # initialize our list of input images after combining the four input images\n",
    "        inputImages = []\n",
    "        outputImage = np.zeros((64, 64, 3), dtype=\"uint8\")\n",
    "\n",
    "        # loop over the input house paths\n",
    "        for housePath in housePaths:\n",
    "            image = cv2.imread(housePath)\n",
    "            image = cv2.resize(image, (32, 32))#resize the images\n",
    "            inputImages.append(image)\n",
    " \n",
    "        # tile the four input images such that\n",
    "        # first image:top-right corner, second image:top-left corner,\n",
    "        # third image:bottom-right corner, final image:bottom-left corner\n",
    "        outputImage[0:32, 0:32] = inputImages[0]\n",
    "        outputImage[0:32, 32:64] = inputImages[1]\n",
    "        outputImage[32:64, 32:64] = inputImages[2]\n",
    "        outputImage[32:64, 0:32] = inputImages[3]\n",
    "        \n",
    "        # add the tiled image to our set of images the network will be trained on\n",
    "        images.append(outputImage)\n",
    " \n",
    "    # return our set of images\n",
    "    return np.array(images)\n"
   ]
  }
 ],
 "metadata": {
  "kernelspec": {
   "display_name": "'TensorFlow-GPU'",
   "language": "python",
   "name": "tensorflow"
  },
  "language_info": {
   "codemirror_mode": {
    "name": "ipython",
    "version": 3
   },
   "file_extension": ".py",
   "mimetype": "text/x-python",
   "name": "python",
   "nbconvert_exporter": "python",
   "pygments_lexer": "ipython3",
   "version": "3.7.6"
  }
 },
 "nbformat": 4,
 "nbformat_minor": 4
}
